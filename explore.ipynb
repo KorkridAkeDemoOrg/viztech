{
 "cells": [
  {
   "cell_type": "markdown",
   "metadata": {},
   "source": [
    "# Data Visualization for Exploration"
   ]
  },
  {
   "cell_type": "code",
   "execution_count": 1,
   "metadata": {},
   "outputs": [
    {
     "data": {
      "text/html": [
       "<div>\n",
       "<style scoped>\n",
       "    .dataframe tbody tr th:only-of-type {\n",
       "        vertical-align: middle;\n",
       "    }\n",
       "\n",
       "    .dataframe tbody tr th {\n",
       "        vertical-align: top;\n",
       "    }\n",
       "\n",
       "    .dataframe thead th {\n",
       "        text-align: right;\n",
       "    }\n",
       "</style>\n",
       "<table border=\"1\" class=\"dataframe\">\n",
       "  <thead>\n",
       "    <tr style=\"text-align: right;\">\n",
       "      <th></th>\n",
       "      <th>id</th>\n",
       "      <th>brand</th>\n",
       "      <th>series</th>\n",
       "      <th>model</th>\n",
       "      <th>gen</th>\n",
       "      <th>year</th>\n",
       "      <th>color</th>\n",
       "      <th>gear</th>\n",
       "      <th>gas</th>\n",
       "      <th>sales_price</th>\n",
       "      <th>original_price</th>\n",
       "      <th>market_price</th>\n",
       "      <th>description</th>\n",
       "      <th>contact_location</th>\n",
       "      <th>subscribers</th>\n",
       "      <th>scraped_date</th>\n",
       "      <th>removed_date</th>\n",
       "    </tr>\n",
       "  </thead>\n",
       "  <tbody>\n",
       "    <tr>\n",
       "      <th>0</th>\n",
       "      <td>2210000</td>\n",
       "      <td>HONDA</td>\n",
       "      <td>JAZZ</td>\n",
       "      <td>1.5 i-VTEC SV (AS)</td>\n",
       "      <td>ปี08-13</td>\n",
       "      <td>2014.0</td>\n",
       "      <td>สีขาว</td>\n",
       "      <td>เกียร์ออโต้</td>\n",
       "      <td>NaN</td>\n",
       "      <td>488000.0</td>\n",
       "      <td>NaN</td>\n",
       "      <td>NaN</td>\n",
       "      <td>เครดิตดีออกรถ10,000จบครับ\\nรับประกันเครื่องเกี...</td>\n",
       "      <td>กรุงเทพฯ</td>\n",
       "      <td>1047.0</td>\n",
       "      <td>2019-05-22</td>\n",
       "      <td>NaN</td>\n",
       "    </tr>\n",
       "    <tr>\n",
       "      <th>1</th>\n",
       "      <td>2210001</td>\n",
       "      <td>TOYOTA</td>\n",
       "      <td>ESTIMA</td>\n",
       "      <td>2.4 G HYBRID</td>\n",
       "      <td>ปี10-ปัจจุบัน</td>\n",
       "      <td>2013.0</td>\n",
       "      <td>สีขาว</td>\n",
       "      <td>เกียร์ออโต้</td>\n",
       "      <td>NaN</td>\n",
       "      <td>1677000.0</td>\n",
       "      <td>NaN</td>\n",
       "      <td>3050000.0</td>\n",
       "      <td>TOPสุด Estima Aeras Hybrid รถเข้าเซอร์วิส TOYO...</td>\n",
       "      <td>กรุงเทพฯ</td>\n",
       "      <td>182.0</td>\n",
       "      <td>2019-05-22</td>\n",
       "      <td>NaN</td>\n",
       "    </tr>\n",
       "    <tr>\n",
       "      <th>2</th>\n",
       "      <td>2210009</td>\n",
       "      <td>HONDA</td>\n",
       "      <td>JAZZ</td>\n",
       "      <td>1.5 i-VTEC V (AS)</td>\n",
       "      <td>ปี08-13</td>\n",
       "      <td>2008.0</td>\n",
       "      <td>สีน้ำเงิน</td>\n",
       "      <td>เกียร์ออโต้</td>\n",
       "      <td>NaN</td>\n",
       "      <td>338000.0</td>\n",
       "      <td>NaN</td>\n",
       "      <td>NaN</td>\n",
       "      <td>เครดิดีออกรถ10,000จบครับ\\nรับประกันเครื่องเกีย...</td>\n",
       "      <td>กรุงเทพฯ</td>\n",
       "      <td>1047.0</td>\n",
       "      <td>2019-05-22</td>\n",
       "      <td>NaN</td>\n",
       "    </tr>\n",
       "    <tr>\n",
       "      <th>3</th>\n",
       "      <td>2210012</td>\n",
       "      <td>FORD</td>\n",
       "      <td>RANGER</td>\n",
       "      <td>2.2 WILDTRAK DBL CAB HI-RIDER</td>\n",
       "      <td>DOUBLECAB</td>\n",
       "      <td>2016.0</td>\n",
       "      <td>สีขาว</td>\n",
       "      <td>เกียร์ออโต้</td>\n",
       "      <td>NaN</td>\n",
       "      <td>689000.0</td>\n",
       "      <td>NaN</td>\n",
       "      <td>849000.0</td>\n",
       "      <td>รับรองสภาพ ไม่มีชน มือเดียว พาช่างมาตรวจสภาพรถ...</td>\n",
       "      <td>กรุงเทพฯ</td>\n",
       "      <td>760.0</td>\n",
       "      <td>2019-05-22</td>\n",
       "      <td>NaN</td>\n",
       "    </tr>\n",
       "    <tr>\n",
       "      <th>4</th>\n",
       "      <td>2210016</td>\n",
       "      <td>TOYOTA</td>\n",
       "      <td>SOLUNA</td>\n",
       "      <td>VIOS 1.5 E (ABS+AB)</td>\n",
       "      <td>VIOS ปี13-ปัจจุบัน</td>\n",
       "      <td>2015.0</td>\n",
       "      <td>สีบรอนซ์เงิน</td>\n",
       "      <td>เกียร์ออโต้</td>\n",
       "      <td>NaN</td>\n",
       "      <td>359000.0</td>\n",
       "      <td>NaN</td>\n",
       "      <td>649000.0</td>\n",
       "      <td>ไมล์แท้ 99,xxx TOYOTA SOLUNA VIOS 1.5E\\nTOYOTA...</td>\n",
       "      <td>กรุงเทพฯ</td>\n",
       "      <td>699.0</td>\n",
       "      <td>2019-05-22</td>\n",
       "      <td>NaN</td>\n",
       "    </tr>\n",
       "  </tbody>\n",
       "</table>\n",
       "</div>"
      ],
      "text/plain": [
       "        id   brand  series                          model                 gen  \\\n",
       "0  2210000   HONDA    JAZZ             1.5 i-VTEC SV (AS)             ปี08-13   \n",
       "1  2210001  TOYOTA  ESTIMA                   2.4 G HYBRID       ปี10-ปัจจุบัน   \n",
       "2  2210009   HONDA    JAZZ              1.5 i-VTEC V (AS)             ปี08-13   \n",
       "3  2210012    FORD  RANGER  2.2 WILDTRAK DBL CAB HI-RIDER           DOUBLECAB   \n",
       "4  2210016  TOYOTA  SOLUNA            VIOS 1.5 E (ABS+AB)  VIOS ปี13-ปัจจุบัน   \n",
       "\n",
       "     year         color         gear  gas  sales_price original_price  \\\n",
       "0  2014.0         สีขาว  เกียร์ออโต้  NaN     488000.0            NaN   \n",
       "1  2013.0         สีขาว  เกียร์ออโต้  NaN    1677000.0            NaN   \n",
       "2  2008.0     สีน้ำเงิน  เกียร์ออโต้  NaN     338000.0            NaN   \n",
       "3  2016.0         สีขาว  เกียร์ออโต้  NaN     689000.0            NaN   \n",
       "4  2015.0  สีบรอนซ์เงิน  เกียร์ออโต้  NaN     359000.0            NaN   \n",
       "\n",
       "   market_price                                        description  \\\n",
       "0           NaN  เครดิตดีออกรถ10,000จบครับ\\nรับประกันเครื่องเกี...   \n",
       "1     3050000.0  TOPสุด Estima Aeras Hybrid รถเข้าเซอร์วิส TOYO...   \n",
       "2           NaN  เครดิดีออกรถ10,000จบครับ\\nรับประกันเครื่องเกีย...   \n",
       "3      849000.0  รับรองสภาพ ไม่มีชน มือเดียว พาช่างมาตรวจสภาพรถ...   \n",
       "4      649000.0  ไมล์แท้ 99,xxx TOYOTA SOLUNA VIOS 1.5E\\nTOYOTA...   \n",
       "\n",
       "  contact_location  subscribers scraped_date removed_date  \n",
       "0         กรุงเทพฯ       1047.0   2019-05-22          NaN  \n",
       "1         กรุงเทพฯ        182.0   2019-05-22          NaN  \n",
       "2         กรุงเทพฯ       1047.0   2019-05-22          NaN  \n",
       "3         กรุงเทพฯ        760.0   2019-05-22          NaN  \n",
       "4         กรุงเทพฯ        699.0   2019-05-22          NaN  "
      ]
     },
     "execution_count": 1,
     "metadata": {},
     "output_type": "execute_result"
    }
   ],
   "source": [
    "import pandas as pd\n",
    "import numpy as np\n",
    "import scipy.stats as st\n",
    "\n",
    "#ggplot equivalent: plotnine\n",
    "from plotnine import *\n",
    "\n",
    "#scales package equivalent: mizani\n",
    "from mizani.breaks import *\n",
    "from mizani.formatters import *\n",
    "\n",
    "#widgets\n",
    "from ipywidgets import interact, interactive, fixed, interact_manual\n",
    "import ipywidgets as widgets\n",
    "\n",
    "#utility\n",
    "import utils\n",
    "def clean_comma(x): return float(str(x).replace(',',''))\n",
    "df = pd.read_csv('data/taladrod.csv')\n",
    "df['sales_price'] = df.sales_price.map(clean_comma)\n",
    "df['market_price'] = df.market_price.map(clean_comma)\n",
    "df.head()"
   ]
  },
  {
   "cell_type": "markdown",
   "metadata": {},
   "source": [
    "## Data Quality"
   ]
  },
  {
   "cell_type": "markdown",
   "metadata": {},
   "source": [
    "### Missing Values"
   ]
  },
  {
   "cell_type": "code",
   "execution_count": 2,
   "metadata": {},
   "outputs": [
    {
     "data": {
      "text/html": [
       "<div>\n",
       "<style scoped>\n",
       "    .dataframe tbody tr th:only-of-type {\n",
       "        vertical-align: middle;\n",
       "    }\n",
       "\n",
       "    .dataframe tbody tr th {\n",
       "        vertical-align: top;\n",
       "    }\n",
       "\n",
       "    .dataframe thead th {\n",
       "        text-align: right;\n",
       "    }\n",
       "</style>\n",
       "<table border=\"1\" class=\"dataframe\">\n",
       "  <thead>\n",
       "    <tr style=\"text-align: right;\">\n",
       "      <th></th>\n",
       "      <th>col_name</th>\n",
       "      <th>per_missing</th>\n",
       "      <th>rnk</th>\n",
       "      <th>over90</th>\n",
       "    </tr>\n",
       "  </thead>\n",
       "  <tbody>\n",
       "    <tr>\n",
       "      <th>0</th>\n",
       "      <td>original_price</td>\n",
       "      <td>0.991380</td>\n",
       "      <td>00_original_price</td>\n",
       "      <td>True</td>\n",
       "    </tr>\n",
       "    <tr>\n",
       "      <th>1</th>\n",
       "      <td>gas</td>\n",
       "      <td>0.936525</td>\n",
       "      <td>01_gas</td>\n",
       "      <td>True</td>\n",
       "    </tr>\n",
       "    <tr>\n",
       "      <th>2</th>\n",
       "      <td>removed_date</td>\n",
       "      <td>0.886728</td>\n",
       "      <td>02_removed_date</td>\n",
       "      <td>False</td>\n",
       "    </tr>\n",
       "    <tr>\n",
       "      <th>3</th>\n",
       "      <td>market_price</td>\n",
       "      <td>0.561658</td>\n",
       "      <td>03_market_price</td>\n",
       "      <td>False</td>\n",
       "    </tr>\n",
       "    <tr>\n",
       "      <th>4</th>\n",
       "      <td>subscribers</td>\n",
       "      <td>0.000641</td>\n",
       "      <td>04_subscribers</td>\n",
       "      <td>False</td>\n",
       "    </tr>\n",
       "    <tr>\n",
       "      <th>5</th>\n",
       "      <td>model</td>\n",
       "      <td>0.000000</td>\n",
       "      <td>05_model</td>\n",
       "      <td>False</td>\n",
       "    </tr>\n",
       "    <tr>\n",
       "      <th>6</th>\n",
       "      <td>gen</td>\n",
       "      <td>0.000000</td>\n",
       "      <td>06_gen</td>\n",
       "      <td>False</td>\n",
       "    </tr>\n",
       "    <tr>\n",
       "      <th>7</th>\n",
       "      <td>year</td>\n",
       "      <td>0.000000</td>\n",
       "      <td>07_year</td>\n",
       "      <td>False</td>\n",
       "    </tr>\n",
       "    <tr>\n",
       "      <th>8</th>\n",
       "      <td>color</td>\n",
       "      <td>0.000000</td>\n",
       "      <td>08_color</td>\n",
       "      <td>False</td>\n",
       "    </tr>\n",
       "    <tr>\n",
       "      <th>9</th>\n",
       "      <td>gear</td>\n",
       "      <td>0.000000</td>\n",
       "      <td>09_gear</td>\n",
       "      <td>False</td>\n",
       "    </tr>\n",
       "    <tr>\n",
       "      <th>10</th>\n",
       "      <td>brand</td>\n",
       "      <td>0.000000</td>\n",
       "      <td>10_brand</td>\n",
       "      <td>False</td>\n",
       "    </tr>\n",
       "    <tr>\n",
       "      <th>11</th>\n",
       "      <td>sales_price</td>\n",
       "      <td>0.000000</td>\n",
       "      <td>11_sales_price</td>\n",
       "      <td>False</td>\n",
       "    </tr>\n",
       "    <tr>\n",
       "      <th>12</th>\n",
       "      <td>series</td>\n",
       "      <td>0.000000</td>\n",
       "      <td>12_series</td>\n",
       "      <td>False</td>\n",
       "    </tr>\n",
       "    <tr>\n",
       "      <th>13</th>\n",
       "      <td>description</td>\n",
       "      <td>0.000000</td>\n",
       "      <td>13_description</td>\n",
       "      <td>False</td>\n",
       "    </tr>\n",
       "    <tr>\n",
       "      <th>14</th>\n",
       "      <td>contact_location</td>\n",
       "      <td>0.000000</td>\n",
       "      <td>14_contact_location</td>\n",
       "      <td>False</td>\n",
       "    </tr>\n",
       "    <tr>\n",
       "      <th>15</th>\n",
       "      <td>scraped_date</td>\n",
       "      <td>0.000000</td>\n",
       "      <td>15_scraped_date</td>\n",
       "      <td>False</td>\n",
       "    </tr>\n",
       "    <tr>\n",
       "      <th>16</th>\n",
       "      <td>id</td>\n",
       "      <td>0.000000</td>\n",
       "      <td>16_id</td>\n",
       "      <td>False</td>\n",
       "    </tr>\n",
       "  </tbody>\n",
       "</table>\n",
       "</div>"
      ],
      "text/plain": [
       "            col_name  per_missing                  rnk  over90\n",
       "0     original_price     0.991380    00_original_price    True\n",
       "1                gas     0.936525               01_gas    True\n",
       "2       removed_date     0.886728      02_removed_date   False\n",
       "3       market_price     0.561658      03_market_price   False\n",
       "4        subscribers     0.000641       04_subscribers   False\n",
       "5              model     0.000000             05_model   False\n",
       "6                gen     0.000000               06_gen   False\n",
       "7               year     0.000000              07_year   False\n",
       "8              color     0.000000             08_color   False\n",
       "9               gear     0.000000              09_gear   False\n",
       "10             brand     0.000000             10_brand   False\n",
       "11       sales_price     0.000000       11_sales_price   False\n",
       "12            series     0.000000            12_series   False\n",
       "13       description     0.000000       13_description   False\n",
       "14  contact_location     0.000000  14_contact_location   False\n",
       "15      scraped_date     0.000000      15_scraped_date   False\n",
       "16                id     0.000000                16_id   False"
      ]
     },
     "execution_count": 2,
     "metadata": {},
     "output_type": "execute_result"
    }
   ],
   "source": [
    "missing = utils.check_missing(df)\n",
    "missing['over90'] = missing.per_missing.map(lambda x: True if x>0.9 else False)\n",
    "missing"
   ]
  },
  {
   "cell_type": "code",
   "execution_count": 3,
   "metadata": {},
   "outputs": [
    {
     "data": {
      "image/png": "[encoded data removed]",
      "text/plain": [
       "<Figure size 640x480 with 1 Axes>"
      ]
     },
     "metadata": {
      "needs_background": "light"
     },
     "output_type": "display_data"
    },
    {
     "data": {
      "text/plain": [
       "<ggplot: (8784549710740)>"
      ]
     },
     "execution_count": 3,
     "metadata": {},
     "output_type": "execute_result"
    }
   ],
   "source": [
    "g = (ggplot(missing,aes(x='rnk',y='per_missing',fill='over90')) + #base plot\n",
    "     geom_col() + #type of plot \n",
    "     geom_text(aes(x='rnk',y='per_missing+0.1',label='round(100*per_missing,2)')) +#annotate\n",
    "     scale_y_continuous(labels=percent_format()) + #y-axis tick\n",
    "     theme_minimal() + coord_flip()#theme and flipping plot\n",
    "    )\n",
    "g"
   ]
  },
  {
   "cell_type": "code",
   "execution_count": 4,
   "metadata": {},
   "outputs": [
    {
     "data": {
      "text/html": [
       "<div>\n",
       "<style scoped>\n",
       "    .dataframe tbody tr th:only-of-type {\n",
       "        vertical-align: middle;\n",
       "    }\n",
       "\n",
       "    .dataframe tbody tr th {\n",
       "        vertical-align: top;\n",
       "    }\n",
       "\n",
       "    .dataframe thead th {\n",
       "        text-align: right;\n",
       "    }\n",
       "</style>\n",
       "<table border=\"1\" class=\"dataframe\">\n",
       "  <thead>\n",
       "    <tr style=\"text-align: right;\">\n",
       "      <th></th>\n",
       "      <th>id</th>\n",
       "      <th>brand</th>\n",
       "      <th>series</th>\n",
       "      <th>model</th>\n",
       "      <th>gen</th>\n",
       "      <th>year</th>\n",
       "      <th>color</th>\n",
       "      <th>gear</th>\n",
       "      <th>sales_price</th>\n",
       "      <th>market_price</th>\n",
       "      <th>description</th>\n",
       "      <th>contact_location</th>\n",
       "      <th>subscribers</th>\n",
       "      <th>scraped_date</th>\n",
       "      <th>removed_date</th>\n",
       "    </tr>\n",
       "  </thead>\n",
       "  <tbody>\n",
       "    <tr>\n",
       "      <th>0</th>\n",
       "      <td>2210000</td>\n",
       "      <td>HONDA</td>\n",
       "      <td>JAZZ</td>\n",
       "      <td>1.5 i-VTEC SV (AS)</td>\n",
       "      <td>ปี08-13</td>\n",
       "      <td>2014.0</td>\n",
       "      <td>สีขาว</td>\n",
       "      <td>เกียร์ออโต้</td>\n",
       "      <td>488000.0</td>\n",
       "      <td>NaN</td>\n",
       "      <td>เครดิตดีออกรถ10,000จบครับ\\nรับประกันเครื่องเกี...</td>\n",
       "      <td>กรุงเทพฯ</td>\n",
       "      <td>1047.0</td>\n",
       "      <td>2019-05-22</td>\n",
       "      <td>NaN</td>\n",
       "    </tr>\n",
       "    <tr>\n",
       "      <th>1</th>\n",
       "      <td>2210001</td>\n",
       "      <td>TOYOTA</td>\n",
       "      <td>ESTIMA</td>\n",
       "      <td>2.4 G HYBRID</td>\n",
       "      <td>ปี10-ปัจจุบัน</td>\n",
       "      <td>2013.0</td>\n",
       "      <td>สีขาว</td>\n",
       "      <td>เกียร์ออโต้</td>\n",
       "      <td>1677000.0</td>\n",
       "      <td>3050000.0</td>\n",
       "      <td>TOPสุด Estima Aeras Hybrid รถเข้าเซอร์วิส TOYO...</td>\n",
       "      <td>กรุงเทพฯ</td>\n",
       "      <td>182.0</td>\n",
       "      <td>2019-05-22</td>\n",
       "      <td>NaN</td>\n",
       "    </tr>\n",
       "    <tr>\n",
       "      <th>2</th>\n",
       "      <td>2210009</td>\n",
       "      <td>HONDA</td>\n",
       "      <td>JAZZ</td>\n",
       "      <td>1.5 i-VTEC V (AS)</td>\n",
       "      <td>ปี08-13</td>\n",
       "      <td>2008.0</td>\n",
       "      <td>สีน้ำเงิน</td>\n",
       "      <td>เกียร์ออโต้</td>\n",
       "      <td>338000.0</td>\n",
       "      <td>NaN</td>\n",
       "      <td>เครดิดีออกรถ10,000จบครับ\\nรับประกันเครื่องเกีย...</td>\n",
       "      <td>กรุงเทพฯ</td>\n",
       "      <td>1047.0</td>\n",
       "      <td>2019-05-22</td>\n",
       "      <td>NaN</td>\n",
       "    </tr>\n",
       "    <tr>\n",
       "      <th>3</th>\n",
       "      <td>2210012</td>\n",
       "      <td>FORD</td>\n",
       "      <td>RANGER</td>\n",
       "      <td>2.2 WILDTRAK DBL CAB HI-RIDER</td>\n",
       "      <td>DOUBLECAB</td>\n",
       "      <td>2016.0</td>\n",
       "      <td>สีขาว</td>\n",
       "      <td>เกียร์ออโต้</td>\n",
       "      <td>689000.0</td>\n",
       "      <td>849000.0</td>\n",
       "      <td>รับรองสภาพ ไม่มีชน มือเดียว พาช่างมาตรวจสภาพรถ...</td>\n",
       "      <td>กรุงเทพฯ</td>\n",
       "      <td>760.0</td>\n",
       "      <td>2019-05-22</td>\n",
       "      <td>NaN</td>\n",
       "    </tr>\n",
       "    <tr>\n",
       "      <th>4</th>\n",
       "      <td>2210016</td>\n",
       "      <td>TOYOTA</td>\n",
       "      <td>SOLUNA</td>\n",
       "      <td>VIOS 1.5 E (ABS+AB)</td>\n",
       "      <td>VIOS ปี13-ปัจจุบัน</td>\n",
       "      <td>2015.0</td>\n",
       "      <td>สีบรอนซ์เงิน</td>\n",
       "      <td>เกียร์ออโต้</td>\n",
       "      <td>359000.0</td>\n",
       "      <td>649000.0</td>\n",
       "      <td>ไมล์แท้ 99,xxx TOYOTA SOLUNA VIOS 1.5E\\nTOYOTA...</td>\n",
       "      <td>กรุงเทพฯ</td>\n",
       "      <td>699.0</td>\n",
       "      <td>2019-05-22</td>\n",
       "      <td>NaN</td>\n",
       "    </tr>\n",
       "  </tbody>\n",
       "</table>\n",
       "</div>"
      ],
      "text/plain": [
       "        id   brand  series                          model                 gen  \\\n",
       "0  2210000   HONDA    JAZZ             1.5 i-VTEC SV (AS)             ปี08-13   \n",
       "1  2210001  TOYOTA  ESTIMA                   2.4 G HYBRID       ปี10-ปัจจุบัน   \n",
       "2  2210009   HONDA    JAZZ              1.5 i-VTEC V (AS)             ปี08-13   \n",
       "3  2210012    FORD  RANGER  2.2 WILDTRAK DBL CAB HI-RIDER           DOUBLECAB   \n",
       "4  2210016  TOYOTA  SOLUNA            VIOS 1.5 E (ABS+AB)  VIOS ปี13-ปัจจุบัน   \n",
       "\n",
       "     year         color         gear  sales_price  market_price  \\\n",
       "0  2014.0         สีขาว  เกียร์ออโต้     488000.0           NaN   \n",
       "1  2013.0         สีขาว  เกียร์ออโต้    1677000.0     3050000.0   \n",
       "2  2008.0     สีน้ำเงิน  เกียร์ออโต้     338000.0           NaN   \n",
       "3  2016.0         สีขาว  เกียร์ออโต้     689000.0      849000.0   \n",
       "4  2015.0  สีบรอนซ์เงิน  เกียร์ออโต้     359000.0      649000.0   \n",
       "\n",
       "                                         description contact_location  \\\n",
       "0  เครดิตดีออกรถ10,000จบครับ\\nรับประกันเครื่องเกี...         กรุงเทพฯ   \n",
       "1  TOPสุด Estima Aeras Hybrid รถเข้าเซอร์วิส TOYO...         กรุงเทพฯ   \n",
       "2  เครดิดีออกรถ10,000จบครับ\\nรับประกันเครื่องเกีย...         กรุงเทพฯ   \n",
       "3  รับรองสภาพ ไม่มีชน มือเดียว พาช่างมาตรวจสภาพรถ...         กรุงเทพฯ   \n",
       "4  ไมล์แท้ 99,xxx TOYOTA SOLUNA VIOS 1.5E\\nTOYOTA...         กรุงเทพฯ   \n",
       "\n",
       "   subscribers scraped_date removed_date  \n",
       "0       1047.0   2019-05-22          NaN  \n",
       "1        182.0   2019-05-22          NaN  \n",
       "2       1047.0   2019-05-22          NaN  \n",
       "3        760.0   2019-05-22          NaN  \n",
       "4        699.0   2019-05-22          NaN  "
      ]
     },
     "execution_count": 4,
     "metadata": {},
     "output_type": "execute_result"
    }
   ],
   "source": [
    "df.drop(missing[missing.over90==1].col_name,1,inplace=True)\n",
    "df.head()"
   ]
  },
  {
   "cell_type": "markdown",
   "metadata": {},
   "source": [
    "## Categorical Variables"
   ]
  },
  {
   "cell_type": "code",
   "execution_count": 5,
   "metadata": {},
   "outputs": [
    {
     "data": {
      "text/html": [
       "<div>\n",
       "<style scoped>\n",
       "    .dataframe tbody tr th:only-of-type {\n",
       "        vertical-align: middle;\n",
       "    }\n",
       "\n",
       "    .dataframe tbody tr th {\n",
       "        vertical-align: top;\n",
       "    }\n",
       "\n",
       "    .dataframe thead th {\n",
       "        text-align: right;\n",
       "    }\n",
       "</style>\n",
       "<table border=\"1\" class=\"dataframe\">\n",
       "  <thead>\n",
       "    <tr style=\"text-align: right;\">\n",
       "      <th></th>\n",
       "      <th>brand</th>\n",
       "      <th>series</th>\n",
       "      <th>gen</th>\n",
       "      <th>color</th>\n",
       "      <th>gear</th>\n",
       "      <th>contact_location</th>\n",
       "    </tr>\n",
       "  </thead>\n",
       "  <tbody>\n",
       "    <tr>\n",
       "      <th>0</th>\n",
       "      <td>HONDA</td>\n",
       "      <td>JAZZ</td>\n",
       "      <td>ปี08-13</td>\n",
       "      <td>สีขาว</td>\n",
       "      <td>เกียร์ออโต้</td>\n",
       "      <td>กรุงเทพฯ</td>\n",
       "    </tr>\n",
       "    <tr>\n",
       "      <th>1</th>\n",
       "      <td>TOYOTA</td>\n",
       "      <td>ESTIMA</td>\n",
       "      <td>ปี10-ปัจจุบัน</td>\n",
       "      <td>สีขาว</td>\n",
       "      <td>เกียร์ออโต้</td>\n",
       "      <td>กรุงเทพฯ</td>\n",
       "    </tr>\n",
       "    <tr>\n",
       "      <th>2</th>\n",
       "      <td>HONDA</td>\n",
       "      <td>JAZZ</td>\n",
       "      <td>ปี08-13</td>\n",
       "      <td>สีน้ำเงิน</td>\n",
       "      <td>เกียร์ออโต้</td>\n",
       "      <td>กรุงเทพฯ</td>\n",
       "    </tr>\n",
       "    <tr>\n",
       "      <th>3</th>\n",
       "      <td>FORD</td>\n",
       "      <td>RANGER</td>\n",
       "      <td>DOUBLECAB</td>\n",
       "      <td>สีขาว</td>\n",
       "      <td>เกียร์ออโต้</td>\n",
       "      <td>กรุงเทพฯ</td>\n",
       "    </tr>\n",
       "    <tr>\n",
       "      <th>4</th>\n",
       "      <td>TOYOTA</td>\n",
       "      <td>SOLUNA</td>\n",
       "      <td>VIOS ปี13-ปัจจุบัน</td>\n",
       "      <td>สีบรอนซ์เงิน</td>\n",
       "      <td>เกียร์ออโต้</td>\n",
       "      <td>กรุงเทพฯ</td>\n",
       "    </tr>\n",
       "  </tbody>\n",
       "</table>\n",
       "</div>"
      ],
      "text/plain": [
       "    brand  series                 gen         color         gear  \\\n",
       "0   HONDA    JAZZ             ปี08-13         สีขาว  เกียร์ออโต้   \n",
       "1  TOYOTA  ESTIMA       ปี10-ปัจจุบัน         สีขาว  เกียร์ออโต้   \n",
       "2   HONDA    JAZZ             ปี08-13     สีน้ำเงิน  เกียร์ออโต้   \n",
       "3    FORD  RANGER           DOUBLECAB         สีขาว  เกียร์ออโต้   \n",
       "4  TOYOTA  SOLUNA  VIOS ปี13-ปัจจุบัน  สีบรอนซ์เงิน  เกียร์ออโต้   \n",
       "\n",
       "  contact_location  \n",
       "0         กรุงเทพฯ  \n",
       "1         กรุงเทพฯ  \n",
       "2         กรุงเทพฯ  \n",
       "3         กรุงเทพฯ  \n",
       "4         กรุงเทพฯ  "
      ]
     },
     "execution_count": 5,
     "metadata": {},
     "output_type": "execute_result"
    }
   ],
   "source": [
    "cat_vars = ['brand','series','gen','color','gear','contact_location']\n",
    "cat_df = df[cat_vars].copy()\n",
    "cat_df.head()"
   ]
  },
  {
   "cell_type": "code",
   "execution_count": 6,
   "metadata": {},
   "outputs": [],
   "source": [
    "#otherify popular values; you can (should?) also have a mapping dict\n",
    "for col in cat_vars: cat_df = utils.otherify(cat_df,col)"
   ]
  },
  {
   "cell_type": "code",
   "execution_count": 7,
   "metadata": {},
   "outputs": [
    {
     "data": {
      "application/vnd.jupyter.widget-view+json": {
       "model_id": "13a75eef1a0a4a2bb7d0ae174e16b25d",
       "version_major": 2,
       "version_minor": 0
      },
      "text/plain": [
       "interactive(children=(Dropdown(description='col', options=('brand', 'series', 'gen', 'color', 'gear', 'contact…"
      ]
     },
     "metadata": {},
     "output_type": "display_data"
    },
    {
     "data": {
      "text/plain": [
       "<function utils.value_dist(df, col)>"
      ]
     },
     "execution_count": 7,
     "metadata": {},
     "output_type": "execute_result"
    }
   ],
   "source": [
    "interact(utils.value_dist, df =fixed(cat_df),\n",
    "         col = widgets.Dropdown(options=list(cat_df.columns),value='brand'))"
   ]
  },
  {
   "cell_type": "code",
   "execution_count": 8,
   "metadata": {},
   "outputs": [
    {
     "data": {
      "application/vnd.jupyter.widget-view+json": {
       "model_id": "b18bd29cdfe340dc948c4b89cfef8283",
       "version_major": 2,
       "version_minor": 0
      },
      "text/plain": [
       "interactive(children=(Dropdown(description='col', options=('brand', 'series', 'gen', 'color', 'gear', 'contact…"
      ]
     },
     "metadata": {},
     "output_type": "display_data"
    },
    {
     "data": {
      "text/plain": [
       "<function utils.cat_plot(df, col)>"
      ]
     },
     "execution_count": 8,
     "metadata": {},
     "output_type": "execute_result"
    }
   ],
   "source": [
    "def cat_plot(df,col):\n",
    "    pass\n",
    "#input dataframe and column\n",
    "#output histogram plot of value distribution\n",
    "\n",
    "interact(utils.cat_plot, df=fixed(cat_df),\n",
    "         col = widgets.Dropdown(options=list(cat_df.columns),value='brand'))"
   ]
  },
  {
   "cell_type": "code",
   "execution_count": 9,
   "metadata": {},
   "outputs": [
    {
     "data": {
      "application/vnd.jupyter.widget-view+json": {
       "model_id": "622a57dbd79342248c49acafb97b71ce",
       "version_major": 2,
       "version_minor": 0
      },
      "text/plain": [
       "interactive(children=(Dropdown(description='col', index=2, options=('brand', 'series', 'gen', 'color', 'gear',…"
      ]
     },
     "metadata": {},
     "output_type": "display_data"
    },
    {
     "data": {
      "text/plain": [
       "<function __main__.cat_plot_noothers(df, col)>"
      ]
     },
     "execution_count": 9,
     "metadata": {},
     "output_type": "execute_result"
    }
   ],
   "source": [
    "#excluding others\n",
    "def cat_plot_noothers(df,col):\n",
    "    x = df.copy()\n",
    "    x = x[x[col]!='others']\n",
    "    return utils.cat_plot(x,col)\n",
    "\n",
    "interact(cat_plot_noothers, df=fixed(cat_df),\n",
    "         col = widgets.Dropdown(options=list(cat_df.columns),value='gen'))"
   ]
  },
  {
   "cell_type": "code",
   "execution_count": 10,
   "metadata": {},
   "outputs": [
    {
     "data": {
      "text/html": [
       "<div>\n",
       "<style scoped>\n",
       "    .dataframe tbody tr th:only-of-type {\n",
       "        vertical-align: middle;\n",
       "    }\n",
       "\n",
       "    .dataframe tbody tr th {\n",
       "        vertical-align: top;\n",
       "    }\n",
       "\n",
       "    .dataframe thead th {\n",
       "        text-align: right;\n",
       "    }\n",
       "</style>\n",
       "<table border=\"1\" class=\"dataframe\">\n",
       "  <thead>\n",
       "    <tr style=\"text-align: right;\">\n",
       "      <th></th>\n",
       "      <th>brand</th>\n",
       "      <th>series</th>\n",
       "      <th>gen</th>\n",
       "      <th>color</th>\n",
       "      <th>gear</th>\n",
       "      <th>contact_location</th>\n",
       "      <th>sales_price</th>\n",
       "    </tr>\n",
       "  </thead>\n",
       "  <tbody>\n",
       "    <tr>\n",
       "      <th>0</th>\n",
       "      <td>HONDA</td>\n",
       "      <td>others</td>\n",
       "      <td>ปี08-13</td>\n",
       "      <td>สีขาว</td>\n",
       "      <td>เกียร์ออโต้</td>\n",
       "      <td>กรุงเทพฯ</td>\n",
       "      <td>13.056226</td>\n",
       "    </tr>\n",
       "    <tr>\n",
       "      <th>1</th>\n",
       "      <td>TOYOTA</td>\n",
       "      <td>others</td>\n",
       "      <td>others</td>\n",
       "      <td>สีขาว</td>\n",
       "      <td>เกียร์ออโต้</td>\n",
       "      <td>กรุงเทพฯ</td>\n",
       "      <td>14.320520</td>\n",
       "    </tr>\n",
       "    <tr>\n",
       "      <th>2</th>\n",
       "      <td>HONDA</td>\n",
       "      <td>others</td>\n",
       "      <td>ปี08-13</td>\n",
       "      <td>others</td>\n",
       "      <td>เกียร์ออโต้</td>\n",
       "      <td>กรุงเทพฯ</td>\n",
       "      <td>12.669810</td>\n",
       "    </tr>\n",
       "    <tr>\n",
       "      <th>3</th>\n",
       "      <td>FORD</td>\n",
       "      <td>others</td>\n",
       "      <td>others</td>\n",
       "      <td>สีขาว</td>\n",
       "      <td>เกียร์ออโต้</td>\n",
       "      <td>กรุงเทพฯ</td>\n",
       "      <td>13.413541</td>\n",
       "    </tr>\n",
       "    <tr>\n",
       "      <th>4</th>\n",
       "      <td>TOYOTA</td>\n",
       "      <td>SOLUNA</td>\n",
       "      <td>others</td>\n",
       "      <td>สีบรอนซ์เงิน</td>\n",
       "      <td>เกียร์ออโต้</td>\n",
       "      <td>กรุงเทพฯ</td>\n",
       "      <td>12.733758</td>\n",
       "    </tr>\n",
       "  </tbody>\n",
       "</table>\n",
       "</div>"
      ],
      "text/plain": [
       "    brand  series      gen         color         gear contact_location  \\\n",
       "0   HONDA  others  ปี08-13         สีขาว  เกียร์ออโต้         กรุงเทพฯ   \n",
       "1  TOYOTA  others   others         สีขาว  เกียร์ออโต้         กรุงเทพฯ   \n",
       "2   HONDA  others  ปี08-13        others  เกียร์ออโต้         กรุงเทพฯ   \n",
       "3    FORD  others   others         สีขาว  เกียร์ออโต้         กรุงเทพฯ   \n",
       "4  TOYOTA  SOLUNA   others  สีบรอนซ์เงิน  เกียร์ออโต้         กรุงเทพฯ   \n",
       "\n",
       "   sales_price  \n",
       "0    13.056226  \n",
       "1    14.320520  \n",
       "2    12.669810  \n",
       "3    13.413541  \n",
       "4    12.733758  "
      ]
     },
     "execution_count": 10,
     "metadata": {},
     "output_type": "execute_result"
    }
   ],
   "source": [
    "#relationship between dependent variable and categorical variable\n",
    "cat_df['sales_price'] = utils.boxcox(df['sales_price'])\n",
    "cat_df.head()"
   ]
  },
  {
   "cell_type": "code",
   "execution_count": 11,
   "metadata": {},
   "outputs": [
    {
     "data": {
      "text/html": [
       "<div>\n",
       "<style scoped>\n",
       "    .dataframe tbody tr th:only-of-type {\n",
       "        vertical-align: middle;\n",
       "    }\n",
       "\n",
       "    .dataframe tbody tr th {\n",
       "        vertical-align: top;\n",
       "    }\n",
       "\n",
       "    .dataframe thead th {\n",
       "        text-align: right;\n",
       "    }\n",
       "</style>\n",
       "<table border=\"1\" class=\"dataframe\">\n",
       "  <thead>\n",
       "    <tr style=\"text-align: right;\">\n",
       "      <th></th>\n",
       "      <th>count</th>\n",
       "      <th>mean</th>\n",
       "      <th>std</th>\n",
       "      <th>min</th>\n",
       "      <th>25%</th>\n",
       "      <th>50%</th>\n",
       "      <th>75%</th>\n",
       "      <th>max</th>\n",
       "    </tr>\n",
       "    <tr>\n",
       "      <th>color</th>\n",
       "      <th></th>\n",
       "      <th></th>\n",
       "      <th></th>\n",
       "      <th></th>\n",
       "      <th></th>\n",
       "      <th></th>\n",
       "      <th></th>\n",
       "      <th></th>\n",
       "    </tr>\n",
       "  </thead>\n",
       "  <tbody>\n",
       "    <tr>\n",
       "      <th>others</th>\n",
       "      <td>1756.0</td>\n",
       "      <td>12.568359</td>\n",
       "      <td>1.019319</td>\n",
       "      <td>0.000000</td>\n",
       "      <td>12.072547</td>\n",
       "      <td>12.542548</td>\n",
       "      <td>13.028055</td>\n",
       "      <td>16.905644</td>\n",
       "    </tr>\n",
       "    <tr>\n",
       "      <th>สีขาว</th>\n",
       "      <td>4207.0</td>\n",
       "      <td>13.085453</td>\n",
       "      <td>0.940839</td>\n",
       "      <td>0.000000</td>\n",
       "      <td>12.672950</td>\n",
       "      <td>13.005832</td>\n",
       "      <td>13.498058</td>\n",
       "      <td>16.438729</td>\n",
       "    </tr>\n",
       "    <tr>\n",
       "      <th>สีดำ</th>\n",
       "      <td>2848.0</td>\n",
       "      <td>13.071142</td>\n",
       "      <td>0.913027</td>\n",
       "      <td>0.000000</td>\n",
       "      <td>12.594734</td>\n",
       "      <td>13.014780</td>\n",
       "      <td>13.535466</td>\n",
       "      <td>16.111071</td>\n",
       "    </tr>\n",
       "    <tr>\n",
       "      <th>สีน้ำตาล</th>\n",
       "      <td>607.0</td>\n",
       "      <td>12.660002</td>\n",
       "      <td>0.814474</td>\n",
       "      <td>8.853808</td>\n",
       "      <td>12.144203</td>\n",
       "      <td>12.782689</td>\n",
       "      <td>13.140205</td>\n",
       "      <td>15.635210</td>\n",
       "    </tr>\n",
       "    <tr>\n",
       "      <th>สีบรอนซ์เงิน</th>\n",
       "      <td>1879.0</td>\n",
       "      <td>12.760100</td>\n",
       "      <td>0.923268</td>\n",
       "      <td>0.000000</td>\n",
       "      <td>12.421188</td>\n",
       "      <td>12.779876</td>\n",
       "      <td>13.151924</td>\n",
       "      <td>15.854130</td>\n",
       "    </tr>\n",
       "    <tr>\n",
       "      <th>สีเทา</th>\n",
       "      <td>2740.0</td>\n",
       "      <td>12.786451</td>\n",
       "      <td>0.957211</td>\n",
       "      <td>0.000000</td>\n",
       "      <td>12.421188</td>\n",
       "      <td>12.818555</td>\n",
       "      <td>13.188621</td>\n",
       "      <td>17.822480</td>\n",
       "    </tr>\n",
       "  </tbody>\n",
       "</table>\n",
       "</div>"
      ],
      "text/plain": [
       "               count       mean       std       min        25%        50%  \\\n",
       "color                                                                       \n",
       "others        1756.0  12.568359  1.019319  0.000000  12.072547  12.542548   \n",
       "สีขาว         4207.0  13.085453  0.940839  0.000000  12.672950  13.005832   \n",
       "สีดำ          2848.0  13.071142  0.913027  0.000000  12.594734  13.014780   \n",
       "สีน้ำตาล       607.0  12.660002  0.814474  8.853808  12.144203  12.782689   \n",
       "สีบรอนซ์เงิน  1879.0  12.760100  0.923268  0.000000  12.421188  12.779876   \n",
       "สีเทา         2740.0  12.786451  0.957211  0.000000  12.421188  12.818555   \n",
       "\n",
       "                    75%        max  \n",
       "color                               \n",
       "others        13.028055  16.905644  \n",
       "สีขาว         13.498058  16.438729  \n",
       "สีดำ          13.535466  16.111071  \n",
       "สีน้ำตาล      13.140205  15.635210  \n",
       "สีบรอนซ์เงิน  13.151924  15.854130  \n",
       "สีเทา         13.188621  17.822480  "
      ]
     },
     "execution_count": 11,
     "metadata": {},
     "output_type": "execute_result"
    }
   ],
   "source": [
    "#relationship between sales price and color\n",
    "cat_df.groupby('color').sales_price.describe()"
   ]
  },
  {
   "cell_type": "code",
   "execution_count": 12,
   "metadata": {},
   "outputs": [],
   "source": [
    "def depcat_plot(df,col):\n",
    "    pass\n",
    "#plot the summary above"
   ]
  },
  {
   "cell_type": "code",
   "execution_count": 13,
   "metadata": {},
   "outputs": [
    {
     "data": {
      "application/vnd.jupyter.widget-view+json": {
       "model_id": "6fdd6768ed074841953fde9d63c4e463",
       "version_major": 2,
       "version_minor": 0
      },
      "text/plain": [
       "interactive(children=(Dropdown(description='cat', index=2, options=('brand', 'series', 'gen', 'color', 'gear',…"
      ]
     },
     "metadata": {},
     "output_type": "display_data"
    },
    {
     "data": {
      "text/plain": [
       "<function utils.depcat_plot(df, dep, cat, no_outliers=True, geom=<plotnine.geoms.geom_boxplot.geom_boxplot object at 0x7fd5014df828>)>"
      ]
     },
     "execution_count": 13,
     "metadata": {},
     "output_type": "execute_result"
    }
   ],
   "source": [
    "interact(utils.depcat_plot, \n",
    "         df=fixed(cat_df),\n",
    "         dep=fixed('sales_price'),\n",
    "         geom=fixed(geom_boxplot()), #geom_violin, geom_jitter\n",
    "         cat= widgets.Dropdown(options=list(cat_df.columns)[:-1],value='gen'))"
   ]
  },
  {
   "cell_type": "code",
   "execution_count": 20,
   "metadata": {},
   "outputs": [
    {
     "name": "stderr",
     "output_type": "stream",
     "text": [
      "/home/charin/anaconda3/envs/drlnd/lib/python3.6/site-packages/plotnine/stats/stat.py:310: FutureWarning: Sorting because non-concatenation axis is not aligned. A future version\n",
      "of pandas will change to not sort by default.\n",
      "\n",
      "To accept the future behavior, pass 'sort=False'.\n",
      "\n",
      "To retain the current behavior and silence the warning, pass 'sort=True'.\n",
      "\n",
      "  stats = pd.concat(stats, axis=0, ignore_index=True)\n",
      "/home/charin/anaconda3/envs/drlnd/lib/python3.6/site-packages/plotnine/utils.py:633: FutureWarning: Sorting because non-concatenation axis is not aligned. A future version\n",
      "of pandas will change to not sort by default.\n",
      "\n",
      "To accept the future behavior, pass 'sort=False'.\n",
      "\n",
      "To retain the current behavior and silence the warning, pass 'sort=True'.\n",
      "\n",
      "  return pd.concat(lst, axis=axis, ignore_index=True)\n"
     ]
    },
    {
     "data": {
      "image/png": "[encoded data removed]",
      "text/plain": [
       "<Figure size 640x480 with 18 Axes>"
      ]
     },
     "metadata": {
      "needs_background": "light"
     },
     "output_type": "display_data"
    },
    {
     "data": {
      "text/plain": [
       "<ggplot: (8784520295979)>"
      ]
     },
     "execution_count": 20,
     "metadata": {},
     "output_type": "execute_result"
    }
   ],
   "source": [
    "#getting fancy; not necessarily the best idea\n",
    "new_df = utils.remove_outliers(cat_df,'sales_price')\n",
    "g = (ggplot(new_df, aes(x='gen',y='sales_price')) +\n",
    "     geom_boxplot() + theme_minimal() +\n",
    "     facet_grid('contact_location~color') +\n",
    "     theme(axis_text_x = element_text(angle = 90, hjust = 1))\n",
    "    )\n",
    "g"
   ]
  },
  {
   "cell_type": "markdown",
   "metadata": {},
   "source": [
    "## Numerical Variables"
   ]
  },
  {
   "cell_type": "code",
   "execution_count": null,
   "metadata": {},
   "outputs": [],
   "source": [
    "import datetime\n",
    "now = datetime.datetime.now()\n",
    "df['nb_year'] = now.year - df['year']\n",
    "num_vars = ['nb_year','sales_price','market_price','subscribers']\n",
    "num_df = df[num_vars].dropna() #this is why you need to deal with missing values BEFORE exploration\n",
    "num_df.describe()"
   ]
  },
  {
   "cell_type": "code",
   "execution_count": null,
   "metadata": {},
   "outputs": [],
   "source": [
    "import seaborn as sns\n",
    "sns.pairplot(num_df) #non-normal data is a problem!"
   ]
  },
  {
   "cell_type": "markdown",
   "metadata": {},
   "source": [
    "**Q-Q plot** compares two probability distributions by plotting their quantiles against each other. We can use this to determine the normality of a variable by plotting the sample quantiles (from the data we have) against its theoretical quantiles (where the quantiles would be if the variable is normally distributed)."
   ]
  },
  {
   "cell_type": "code",
   "execution_count": null,
   "metadata": {},
   "outputs": [],
   "source": [
    "interact(utils.qq_plot, df=fixed(num_df),\n",
    "         col=widgets.Dropdown(options=list(num_df.columns)))"
   ]
  },
  {
   "cell_type": "markdown",
   "metadata": {},
   "source": [
    "**Box-Cox transformation** is a statistical technique used to make data look like more normally distributed.\n",
    "\n",
    "\\begin{align}\n",
    "g_\\lambda(y) = \\left\\{\n",
    "\\begin{array}{lr}\\displaystyle\\frac{y^\\lambda - 1}{\\lambda} &  \\lambda \\neq 0\\\\\n",
    "        & \\\\\n",
    "       \\log(y) &  \\lambda = 0\n",
    "     \\end{array}\n",
    "   \\right.\n",
    "\\end{align}"
   ]
  },
  {
   "cell_type": "code",
   "execution_count": null,
   "metadata": {},
   "outputs": [],
   "source": [
    "def boxcox(ser,lamb=0):\n",
    "    pass\n",
    "#input a column from pandas dataframe\n",
    "#output transformed column"
   ]
  },
  {
   "cell_type": "code",
   "execution_count": null,
   "metadata": {},
   "outputs": [],
   "source": [
    "#see transformation results\n",
    "def what_lamb(df,col,lamb):\n",
    "    sample_df = df.copy()\n",
    "    former_g = utils.qq_plot(sample_df,col)\n",
    "    sample_df[col] = utils.boxcox(sample_df[col],lamb)\n",
    "    print(utils.qq_plot(sample_df,col),former_g)\n",
    "    \n",
    "interact(what_lamb, df=fixed(num_df),\n",
    "         col=widgets.Dropdown(options=list(num_df.columns),value='sales_price'),\n",
    "         lamb=widgets.FloatSlider(min=-3,max=3,step=0.5,value=0)\n",
    "         )"
   ]
  },
  {
   "cell_type": "markdown",
   "metadata": {},
   "source": [
    "We can also automate finding $\\lambda$ by plotting the coefficient of the Q-Q plot, and choose lambda where the coefficient is closest to 1."
   ]
  },
  {
   "cell_type": "code",
   "execution_count": null,
   "metadata": {},
   "outputs": [],
   "source": [
    "lamb_df = utils.boxcox_lamb_df(num_df.subscribers)\n",
    "interact(utils.boxcox_plot, df=fixed(num_df),\n",
    "         col=widgets.Dropdown(options=list(num_df.columns),value='sales_price'),\n",
    "         ls=fixed([i/10 for i in range(-30,31,5)])\n",
    "         )"
   ]
  },
  {
   "cell_type": "code",
   "execution_count": null,
   "metadata": {},
   "outputs": [],
   "source": [
    "#transform sales and market prices\n",
    "for col in ['sales_price','market_price']:\n",
    "    num_df['new_'+col] = utils.boxcox(num_df[col], utils.boxcox_lamb(num_df[col]))"
   ]
  },
  {
   "cell_type": "code",
   "execution_count": null,
   "metadata": {},
   "outputs": [],
   "source": [
    "sns.pairplot(num_df[['nb_year','new_sales_price','new_market_price','subscribers']]) #a little better!"
   ]
  },
  {
   "cell_type": "markdown",
   "metadata": {},
   "source": [
    "In case there are too many pairs, you might want to look at their distributions and correlations pair-by-pair."
   ]
  },
  {
   "cell_type": "code",
   "execution_count": null,
   "metadata": {},
   "outputs": [],
   "source": [
    "num_m = num_df.melt()\n",
    "num_m.head()"
   ]
  },
  {
   "cell_type": "code",
   "execution_count": null,
   "metadata": {},
   "outputs": [],
   "source": [
    "g = (ggplot(num_m,aes(x='value',fill='variable')) +\n",
    "     geom_bar(stat='bin', bins=30) +\n",
    "     facet_wrap('~variable', scales='free',ncol=2) + #facetting by variable\n",
    "     theme_minimal()\n",
    "    )\n",
    "g"
   ]
  },
  {
   "cell_type": "code",
   "execution_count": null,
   "metadata": {},
   "outputs": [],
   "source": [
    "interact(utils.jointplot, df=fixed(num_df),\n",
    "         col_x= widgets.Dropdown(options=list(num_df.columns),value='sales_price'),\n",
    "         col_y=widgets.Dropdown(options=list(num_df.columns),value='sales_price'),\n",
    "         kind=widgets.Dropdown(options=['scatter','resid','reg','hex','kde','point'],value='scatter'))"
   ]
  },
  {
   "cell_type": "code",
   "execution_count": null,
   "metadata": {},
   "outputs": [],
   "source": [
    "#correlation plot if you must; but it's just ONE number for the relationship\n",
    "num_df.corr(method='pearson').style.background_gradient(cmap='coolwarm') "
   ]
  },
  {
   "cell_type": "code",
   "execution_count": null,
   "metadata": {},
   "outputs": [],
   "source": [
    "def pearson_corr(x,y):\n",
    "    sub_x = x - x.mean()\n",
    "    sub_y = y - y.mean()\n",
    "    return (sub_x * sub_y).sum() / np.sqrt((sub_x**2).sum() * (sub_y**2).sum())\n",
    "\n",
    "#spearman and kendall: pearson with rank variables\n",
    "pearson_corr(df.nb_year,df.sales_price)"
   ]
  },
  {
   "cell_type": "markdown",
   "metadata": {},
   "source": [
    "**Bottom line**: It's always better to LOOK at your data instead of relying on ONE number for each relationship."
   ]
  },
  {
   "cell_type": "code",
   "execution_count": null,
   "metadata": {},
   "outputs": [],
   "source": []
  }
 ],
 "metadata": {
  "kernelspec": {
   "display_name": "Python 3",
   "language": "python",
   "name": "python3"
  },
  "language_info": {
   "codemirror_mode": {
    "name": "ipython",
    "version": 3
   },
   "file_extension": ".py",
   "mimetype": "text/x-python",
   "name": "python",
   "nbconvert_exporter": "python",
   "pygments_lexer": "ipython3",
   "version": "3.6.8"
  }
 },
 "nbformat": 4,
 "nbformat_minor": 2
}
