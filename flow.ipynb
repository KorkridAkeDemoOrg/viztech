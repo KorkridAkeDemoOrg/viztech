{
 "cells": [
  {
   "cell_type": "markdown",
   "metadata": {},
   "source": [
    "# Flow\n",
    "Show the reader volumes or intensity of movement between two or more states or conditions. These might be logical sequences or geographical locations"
   ]
  },
  {
   "cell_type": "code",
   "execution_count": 1,
   "metadata": {},
   "outputs": [],
   "source": [
    "import pandas as pd\n",
    "import numpy as np\n",
    "#ggplot equivalent: plotnine\n",
    "from plotnine import *\n",
    "#scales package equivalent: mizani\n",
    "from mizani.breaks import *\n",
    "from mizani.formatters import *\n",
    "import utils"
   ]
  },
  {
   "cell_type": "markdown",
   "metadata": {},
   "source": [
    "## Sankey\n",
    "\n",
    "Shows changes in flows from one condition to at least one other; good for tracing the eventual outcome of a complex process."
   ]
  },
  {
   "cell_type": "markdown",
   "metadata": {},
   "source": [
    "## Waterfall\n",
    "\n",
    "Designed to show the sequencing of data through a flow process, typically budgets. Can include +/- components"
   ]
  },
  {
   "cell_type": "code",
   "execution_count": 21,
   "metadata": {},
   "outputs": [
    {
     "data": {
      "text/html": [
       "<div>\n",
       "<style scoped>\n",
       "    .dataframe tbody tr th:only-of-type {\n",
       "        vertical-align: middle;\n",
       "    }\n",
       "\n",
       "    .dataframe tbody tr th {\n",
       "        vertical-align: top;\n",
       "    }\n",
       "\n",
       "    .dataframe thead th {\n",
       "        text-align: right;\n",
       "    }\n",
       "</style>\n",
       "<table border=\"1\" class=\"dataframe\">\n",
       "  <thead>\n",
       "    <tr style=\"text-align: right;\">\n",
       "      <th></th>\n",
       "      <th>variable</th>\n",
       "      <th>kind</th>\n",
       "      <th>value</th>\n",
       "    </tr>\n",
       "  </thead>\n",
       "  <tbody>\n",
       "    <tr>\n",
       "      <th>0</th>\n",
       "      <td>Revenue</td>\n",
       "      <td>net</td>\n",
       "      <td>4000</td>\n",
       "    </tr>\n",
       "    <tr>\n",
       "      <th>1</th>\n",
       "      <td>Other</td>\n",
       "      <td>out</td>\n",
       "      <td>-400</td>\n",
       "    </tr>\n",
       "    <tr>\n",
       "      <th>2</th>\n",
       "      <td>Sales Expense</td>\n",
       "      <td>out</td>\n",
       "      <td>-2000</td>\n",
       "    </tr>\n",
       "    <tr>\n",
       "      <th>3</th>\n",
       "      <td>R&amp;D</td>\n",
       "      <td>out</td>\n",
       "      <td>-600</td>\n",
       "    </tr>\n",
       "    <tr>\n",
       "      <th>4</th>\n",
       "      <td>Other Income</td>\n",
       "      <td>in</td>\n",
       "      <td>100</td>\n",
       "    </tr>\n",
       "    <tr>\n",
       "      <th>5</th>\n",
       "      <td>Profit</td>\n",
       "      <td>net</td>\n",
       "      <td>1100</td>\n",
       "    </tr>\n",
       "  </tbody>\n",
       "</table>\n",
       "</div>"
      ],
      "text/plain": [
       "        variable kind  value\n",
       "0        Revenue  net   4000\n",
       "1          Other  out   -400\n",
       "2  Sales Expense  out  -2000\n",
       "3            R&D  out   -600\n",
       "4   Other Income   in    100\n",
       "5         Profit  net   1100"
      ]
     },
     "execution_count": 21,
     "metadata": {},
     "output_type": "execute_result"
    }
   ],
   "source": [
    "df = pd.DataFrame({'variable':['Revenue','Other','Sales Expense','R&D','Other Income','Profit'],\n",
    "                   'kind':['net','out','out','out','in','net'],\n",
    "                   'value':[4000,-400,-2000,-600,100,1100]})\n",
    "df"
   ]
  },
  {
   "cell_type": "code",
   "execution_count": 28,
   "metadata": {},
   "outputs": [
    {
     "data": {
      "text/html": [
       "<div>\n",
       "<style scoped>\n",
       "    .dataframe tbody tr th:only-of-type {\n",
       "        vertical-align: middle;\n",
       "    }\n",
       "\n",
       "    .dataframe tbody tr th {\n",
       "        vertical-align: top;\n",
       "    }\n",
       "\n",
       "    .dataframe thead th {\n",
       "        text-align: right;\n",
       "    }\n",
       "</style>\n",
       "<table border=\"1\" class=\"dataframe\">\n",
       "  <thead>\n",
       "    <tr style=\"text-align: right;\">\n",
       "      <th></th>\n",
       "      <th>variable</th>\n",
       "      <th>kind</th>\n",
       "      <th>value</th>\n",
       "      <th>start</th>\n",
       "      <th>end</th>\n",
       "      <th>id</th>\n",
       "    </tr>\n",
       "  </thead>\n",
       "  <tbody>\n",
       "    <tr>\n",
       "      <th>0</th>\n",
       "      <td>Revenue</td>\n",
       "      <td>net</td>\n",
       "      <td>4000</td>\n",
       "      <td>0</td>\n",
       "      <td>4000</td>\n",
       "      <td>1</td>\n",
       "    </tr>\n",
       "    <tr>\n",
       "      <th>1</th>\n",
       "      <td>Other</td>\n",
       "      <td>out</td>\n",
       "      <td>-400</td>\n",
       "      <td>4000</td>\n",
       "      <td>3600</td>\n",
       "      <td>2</td>\n",
       "    </tr>\n",
       "    <tr>\n",
       "      <th>2</th>\n",
       "      <td>Sales Expense</td>\n",
       "      <td>out</td>\n",
       "      <td>-2000</td>\n",
       "      <td>3600</td>\n",
       "      <td>1600</td>\n",
       "      <td>3</td>\n",
       "    </tr>\n",
       "    <tr>\n",
       "      <th>3</th>\n",
       "      <td>R&amp;D</td>\n",
       "      <td>out</td>\n",
       "      <td>-600</td>\n",
       "      <td>1600</td>\n",
       "      <td>1000</td>\n",
       "      <td>4</td>\n",
       "    </tr>\n",
       "    <tr>\n",
       "      <th>4</th>\n",
       "      <td>Other Income</td>\n",
       "      <td>in</td>\n",
       "      <td>100</td>\n",
       "      <td>1000</td>\n",
       "      <td>1100</td>\n",
       "      <td>5</td>\n",
       "    </tr>\n",
       "    <tr>\n",
       "      <th>5</th>\n",
       "      <td>Profit</td>\n",
       "      <td>net</td>\n",
       "      <td>1100</td>\n",
       "      <td>0</td>\n",
       "      <td>1100</td>\n",
       "      <td>6</td>\n",
       "    </tr>\n",
       "  </tbody>\n",
       "</table>\n",
       "</div>"
      ],
      "text/plain": [
       "        variable kind  value  start   end  id\n",
       "0        Revenue  net   4000      0  4000   1\n",
       "1          Other  out   -400   4000  3600   2\n",
       "2  Sales Expense  out  -2000   3600  1600   3\n",
       "3            R&D  out   -600   1600  1000   4\n",
       "4   Other Income   in    100   1000  1100   5\n",
       "5         Profit  net   1100      0  1100   6"
      ]
     },
     "execution_count": 28,
     "metadata": {},
     "output_type": "execute_result"
    }
   ],
   "source": [
    "#order cats\n",
    "ordered_cats = df['variable']\n",
    "df['variable'] = pd.Categorical(df['variable'], categories=ordered_cats, ordered=True)\n",
    "#create the water fall\n",
    "df['start'] = 0\n",
    "df['end'] = 0\n",
    "df['id'] = range(1,df.shape[0]+1)\n",
    "for i in range(df.shape[0]):\n",
    "    if df.iloc[i,1]=='net':\n",
    "        df.iloc[i,4] = df.iloc[i,2] #set end\n",
    "    else:\n",
    "        df.iloc[i,3] = df.iloc[i-1,4] #set start equals to previous end\n",
    "        df.iloc[i,4] = df.iloc[i,3] + df.iloc[i,2] #set end equals to start + value\n",
    "df"
   ]
  },
  {
   "cell_type": "code",
   "execution_count": 43,
   "metadata": {},
   "outputs": [
    {
     "data": {
      "image/png": "[encoded data removed]",
      "text/plain": [
       "<Figure size 640x480 with 1 Axes>"
      ]
     },
     "metadata": {
      "needs_background": "light"
     },
     "output_type": "display_data"
    },
    {
     "data": {
      "text/plain": [
       "<ggplot: (-9223363242664415800)>"
      ]
     },
     "execution_count": 43,
     "metadata": {},
     "output_type": "execute_result"
    }
   ],
   "source": [
    "g = (ggplot(df,aes(fill='kind')) +\n",
    "     #draw rectangles\n",
    "     geom_rect(aes(x='variable',xmin='id-0.45',xmax='id+0.45',\n",
    "              ymin='end',ymax='start')) +\n",
    "     geom_text(aes(x='variable',y='start+100',label='value')) +\n",
    "     scale_fill_manual(values=['green','lightblue','red']) +\n",
    "     xlab('Things') + ylab('Amount') +\n",
    "     theme(legend_title=element_blank())\n",
    "    )\n",
    "g"
   ]
  },
  {
   "cell_type": "markdown",
   "metadata": {},
   "source": [
    "## Chord\n",
    "A complex but powerful diagram which can illustrate 2-way flows (and net winner) in a matrix"
   ]
  },
  {
   "cell_type": "markdown",
   "metadata": {},
   "source": [
    "## Network\n",
    "\n",
    "Used for showing the complexity and inter-connectdness of relationships of varying types."
   ]
  }
 ],
 "metadata": {
  "kernelspec": {
   "display_name": "Python 3",
   "language": "python",
   "name": "python3"
  },
  "language_info": {
   "codemirror_mode": {
    "name": "ipython",
    "version": 3
   },
   "file_extension": ".py",
   "mimetype": "text/x-python",
   "name": "python",
   "nbconvert_exporter": "python",
   "pygments_lexer": "ipython3",
   "version": "3.6.8"
  }
 },
 "nbformat": 4,
 "nbformat_minor": 2
}
